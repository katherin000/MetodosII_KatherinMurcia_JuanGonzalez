{
 "cells": [
  {
   "cell_type": "code",
   "execution_count": 1,
   "metadata": {},
   "outputs": [
    {
     "name": "stderr",
     "output_type": "stream",
     "text": [
      "C:\\Users\\ASUS\\anaconda3\\lib\\site-packages\\scipy\\__init__.py:146: UserWarning: A NumPy version >=1.16.5 and <1.23.0 is required for this version of SciPy (detected version 1.26.4\n",
      "  warnings.warn(f\"A NumPy version >={np_minversion} and <{np_maxversion}\"\n"
     ]
    }
   ],
   "source": [
    "#IMPORTACIÓN DE LIBRERÍAS PERTINENTES\n",
    "%matplotlib notebook\n",
    "import matplotlib\n",
    "matplotlib.use('TkAgg')\n",
    "#What does this mean and why can't I comment in front of it? [?]\n",
    "import numpy as np\n",
    "import matplotlib.pyplot as plt\n",
    "import matplotlib.animation as anim #IDK HOW TO USE THIS [!]\n",
    "from scipy import integrate\n",
    "\n"
   ]
  },
  {
   "cell_type": "code",
   "execution_count": 2,
   "metadata": {},
   "outputs": [],
   "source": [
    "#CARACTERIZACIÓN INICIAL DEL OSCILADOR\n",
    "\n",
    "#CARACTERIZACIÓN FÍSICA [OSCILADOR ARMÓNICO]\n",
    "w = np.pi #frecuencia angular\n",
    "\n",
    "#CARACTERIZACIÓN ESPACIAL INICIAL\n",
    "r0 = [1,1] #posición inicial #velocidad inicial"
   ]
  },
  {
   "cell_type": "code",
   "execution_count": 3,
   "metadata": {},
   "outputs": [],
   "source": [
    "def System (r,t,w): \n",
    "\n",
    "    x, v = r\n",
    "    dxdt = v\n",
    "    dvdt = (-w**2)*x\n",
    "\n",
    "    return [dxdt, dvdt]"
   ]
  },
  {
   "cell_type": "code",
   "execution_count": 4,
   "metadata": {},
   "outputs": [],
   "source": [
    "#IMPLEMENTACIÓN RUTINA DE VERLET\n",
    "def GetVerlet(f, r0, t, w):\n",
    "\n",
    "    #CARACTERIZACIÓN TEMPORAL\n",
    "    dt = t[1] - t[0]\n",
    "    \n",
    "    #HISTÓRICO DE CARACTERIZACIÓN ESPACIAL\n",
    "    X = np.zeros(len(t)) #histórico de posiciones\n",
    "    V = np.zeros_like(X) #histórico de velocidades\n",
    "\n",
    "    X[0] = r0[0] #posición inicial [0] en el histórico\n",
    "    V[0] = r0[1] #velocidad inicial [0] en el histórico\n",
    "\n",
    "    #IMPLEMENTACIÓN DE ALGORITMO DE VERLET\n",
    "    for i in range(1, len(t)): #para cada tiempo [i] desde el segundo [1] en adelante\n",
    "\n",
    "        a = (-w**2)*X[i-1] #calcular aceleración según oscilador armónico en [i-1]\n",
    "\n",
    "        if i==1: #para el segundo tiempo [1]: \n",
    "            X[i] = X[i-1] + V[i-1]*dt #usar Euler para calcular r[1]\n",
    "        else: #para los demás tiempos:\n",
    "            X[i] = 2*X[i-1] - X[i-2] + a*(dt**2) #usar Verlet para calcular r[i] \n",
    "            V[i-1] = (X[i]-X[i-2]) / (2*dt) #usar Verlet para calcular v[i-1]\n",
    "    \n",
    "    return [X,V]"
   ]
  },
  {
   "cell_type": "code",
   "execution_count": 5,
   "metadata": {},
   "outputs": [],
   "source": [
    "#CARACTERIZACIÓN TEMPORAL [ESTABLE E INESTABLE]\n",
    "\n",
    "#solución_mejorada = integrate.odeint(System, r0, t1, args=(w,))\n",
    "\n",
    "#x3 = solución_mejorada[:,0]"
   ]
  },
  {
   "cell_type": "code",
   "execution_count": 6,
   "metadata": {},
   "outputs": [],
   "source": [
    "fig = plt.figure()\n",
    "ax = fig.add_subplot(111)\n",
    "\n",
    "def init():\n",
    "    ax.clear()\n",
    "\n",
    "def update (i):\n",
    "\n",
    "    init()\n",
    "    \n",
    "\n",
    "    iteraciones = 100\n",
    "    tmax = 10\n",
    "\n",
    "    for i in range(1,iteraciones):\n",
    "        dt = 0.01*i\n",
    "        t = np.arange(0.,tmax,dt)\n",
    "\n",
    "        x, v = GetVerlet(System, r0, t, w)\n",
    "        ax.set_title(r\"dt {:.3f}\".format(dt))\n",
    "        ax.plot(t,x)\n",
    "\n",
    "\n",
    "animation = anim.FuncAnimation(fig=fig, func=update, frames=100, init_func=init)\n",
    "fig.show()\n",
    "#animation.save(\"anim.mp4\",writer=\"Pillow\")"
   ]
  },
  {
   "cell_type": "code",
   "execution_count": null,
   "metadata": {},
   "outputs": [],
   "source": []
  }
 ],
 "metadata": {
  "kernelspec": {
   "display_name": "Python 3 (ipykernel)",
   "language": "python",
   "name": "python3"
  },
  "language_info": {
   "codemirror_mode": {
    "name": "ipython",
    "version": 3
   },
   "file_extension": ".py",
   "mimetype": "text/x-python",
   "name": "python",
   "nbconvert_exporter": "python",
   "pygments_lexer": "ipython3",
   "version": "3.9.7"
  }
 },
 "nbformat": 4,
 "nbformat_minor": 2
}
