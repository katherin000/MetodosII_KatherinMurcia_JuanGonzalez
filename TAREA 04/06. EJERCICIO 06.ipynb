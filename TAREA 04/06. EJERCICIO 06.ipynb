{
 "cells": [
  {
   "cell_type": "code",
   "execution_count": 17,
   "metadata": {},
   "outputs": [],
   "source": [
    "import numpy as np\n",
    "import matplotlib.pyplot as plt"
   ]
  },
  {
   "cell_type": "code",
   "execution_count": 18,
   "metadata": {},
   "outputs": [],
   "source": [
    "x = np.linspace(-5,5,1000)\n",
    "hb = 1\n",
    "m = 1\n",
    "w = 1\n",
    "\n"
   ]
  },
  {
   "cell_type": "code",
   "execution_count": 12,
   "metadata": {},
   "outputs": [],
   "source": [
    "def Pot(x):\n",
    "    return 0.5*m*(w**2)*(x**2)\n",
    "\n",
    "def K(x, i, E):\n",
    "    if i == 1000:\n",
    "        return (0.5*m/hb**2)*(E - Pot(x[i-1] + 0.01001))\n",
    "    return (0.5*m/hb**2)*(E - Pot(x[i]))"
   ]
  },
  {
   "cell_type": "code",
   "execution_count": 13,
   "metadata": {},
   "outputs": [],
   "source": [
    "def Numerov(x, E):\n",
    "\n",
    "    h = x[1] - x[0]\n",
    "    psi = np.zeros(len(x))\n",
    "\n",
    "    psi[1] = 10**(-5)\n",
    "\n",
    "    \n",
    "\n",
    "    for i in range(2, len(x)):\n",
    "        psi1  = (psi[i-1]*(2 + (10/12)*h*x[i]**2*K(x,i,E)) - psi[i-2]*(1 - (1/12)*h*x[i]**2*K(x, i-1, E)))/(1 - (1/12)*h*x[i]*K(x, i+1, E))\n",
    "        psi[i] = psi1\n",
    "\n",
    "    return psi\n"
   ]
  },
  {
   "cell_type": "code",
   "execution_count": 26,
   "metadata": {},
   "outputs": [],
   "source": [
    "def Numerov1(x, E):\n",
    "\n",
    "    h = x[1] - x[0]\n",
    "    psi = np.zeros(len(x))\n",
    "\n",
    "    psi[1] = 10**(-5)\n",
    "\n",
    "    \n",
    "\n",
    "    for i in range(2, len(x)):\n",
    "        psi1  = (-(1/12)*h**2*(12*(-2*m/hb**2)*E) + 2*(1+(5/12)*h**2*Pot(x[i-1])*(-2*m/hb**2))*psi[i-1] - (1 - (1/12)*Pot(x[i-2])*(-2*m/hb**2))*psi[i-1])/(1 - (1/12)*h**2*Pot(x[i]+0.01001)*(-2*m/hb**2))\n",
    "        psi[i] = psi1\n",
    "\n",
    "    return psi\n"
   ]
  },
  {
   "cell_type": "code",
   "execution_count": 33,
   "metadata": {},
   "outputs": [],
   "source": [
    "psi1 = Numerov1(x, 2.5)\n",
    "psi2 = Numerov(x,2.5)"
   ]
  },
  {
   "cell_type": "code",
   "execution_count": 35,
   "metadata": {},
   "outputs": [
    {
     "data": {
      "text/plain": [
       "[<matplotlib.lines.Line2D at 0x14953b22fa0>]"
      ]
     },
     "execution_count": 35,
     "metadata": {},
     "output_type": "execute_result"
    },
    {
     "data": {
      "image/png": "[encoded data removed]",
      "text/plain": [
       "<Figure size 432x288 with 1 Axes>"
      ]
     },
     "metadata": {
      "needs_background": "light"
     },
     "output_type": "display_data"
    }
   ],
   "source": [
    "plt.plot(x,psi1)\n",
    "#plt.plot(x,psi2)"
   ]
  },
  {
   "cell_type": "code",
   "execution_count": null,
   "metadata": {},
   "outputs": [],
   "source": []
  }
 ],
 "metadata": {
  "kernelspec": {
   "display_name": "base",
   "language": "python",
   "name": "python3"
  },
  "language_info": {
   "codemirror_mode": {
    "name": "ipython",
    "version": 3
   },
   "file_extension": ".py",
   "mimetype": "text/x-python",
   "name": "python",
   "nbconvert_exporter": "python",
   "pygments_lexer": "ipython3",
   "version": "3.9.7"
  }
 },
 "nbformat": 4,
 "nbformat_minor": 2
}
