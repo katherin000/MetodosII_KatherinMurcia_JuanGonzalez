{
 "cells": [
  {
   "cell_type": "code",
   "execution_count": 1,
   "metadata": {},
   "outputs": [],
   "source": [
    "import numpy as np\n",
    "import sympy as sym"
   ]
  },
  {
   "cell_type": "code",
   "execution_count": 2,
   "metadata": {},
   "outputs": [],
   "source": [
    "t = sym.Symbol('t',Real=True)\n",
    "h = sym.Symbol('h',Real=True)"
   ]
  },
  {
   "cell_type": "code",
   "execution_count": 6,
   "metadata": {},
   "outputs": [
    {
     "name": "stdout",
     "output_type": "stream",
     "text": [
      "5*h/12 f_n+1  +  2*h/3 f_n +  -h/12 f_n-1\n"
     ]
    }
   ],
   "source": [
    "#COEFICIENTES ADAMS-MOULTON DE 3 PUNTOS\n",
    "F1 = (t - (0))*(t - (-h))/(2*h**2)\n",
    "F2 = (t - (h))*(t - (-h))/(-h**2)\n",
    "F3 = (t - (h))*(t - (-0))/(2*h**2)\n",
    "\n",
    "I1 = sym.integrate(F1,(t,0,h))\n",
    "I2 = sym.integrate(F2,(t,0,h))\n",
    "I3 = sym.integrate(F3,(t,0,h))\n",
    "\n",
    "print( str(I1) + \" f_n+1  +  \" + str(I2) + \" f_n +  \" + str(I3) + \" f_n-1\")"
   ]
  },
  {
   "cell_type": "code",
   "execution_count": 8,
   "metadata": {},
   "outputs": [
    {
     "name": "stdout",
     "output_type": "stream",
     "text": [
      "3*h/8 f_n+1  +  19*h/24 f_n +  -5*h/24 f_n-1  +  h/24 f_n-2\n"
     ]
    }
   ],
   "source": [
    "#COEFICIENTES ADAMS-BASHFORTH DE 4 PUNTOS\n",
    "F4 = (t - (0))*(t - (-h))*(t - (-2*h))/(6*h**3)\n",
    "F5 = (t - (h))*(t - (-h))*(t - (-2*h))/(-2*h**3)\n",
    "F6 = (t - (h))*(t - (0))*(t - (-2*h))/(2*h**3)\n",
    "F7 = (t - (h))*(t - (0))*(t - (-h))/(-6*h**3)\n",
    "\n",
    "I4 = sym.integrate(F4,(t,0,h))\n",
    "I5 = sym.integrate(F5,(t,0,h))\n",
    "I6 = sym.integrate(F6,(t,0,h))\n",
    "I7 = sym.integrate(F7,(t,0,h))\n",
    "\n",
    "print( str(I4) + \" f_n+1  +  \" + str(I5) + \" f_n +  \" + str(I6) + \" f_n-1  +  \"+ str(I7) + \" f_n-2\")"
   ]
  }
 ],
 "metadata": {
  "kernelspec": {
   "display_name": "base",
   "language": "python",
   "name": "python3"
  },
  "language_info": {
   "codemirror_mode": {
    "name": "ipython",
    "version": 3
   },
   "file_extension": ".py",
   "mimetype": "text/x-python",
   "name": "python",
   "nbconvert_exporter": "python",
   "pygments_lexer": "ipython3",
   "version": "3.9.7"
  }
 },
 "nbformat": 4,
 "nbformat_minor": 2
}
